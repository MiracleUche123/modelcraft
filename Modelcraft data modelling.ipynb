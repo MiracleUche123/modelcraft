{
 "cells": [
  {
   "cell_type": "code",
   "execution_count": 1,
   "id": "2c4c1f56",
   "metadata": {},
   "outputs": [],
   "source": [
    "# import neccessary modules\n",
    "import pandas as pd\n",
    "from sklearn.model_selection import train_test_split\n",
    "from sklearn.preprocessing import LabelEncoder,StandardScaler\n",
    "from sklearn.ensemble import RandomForestClassifier\n",
    "from sklearn.metrics import accuracy_score,classification_report, precision_score, recall_score, f1_score, confusion_matrix\n",
    "from sklearn.linear_model import LinearRegression, Lasso, Ridge\n",
    "from sklearn.metrics import mean_squared_error,r2_score\n",
    "from sklearn.preprocessing import StandardScaler\n",
    "from sklearn.ensemble import RandomForestRegressor\n",
    "from sklearn.metrics import mean_absolute_error,mean_absolute_percentage_error\n",
    "import matplotlib.pyplot as plt\n",
    "import numpy as np"
   ]
  },
  {
   "cell_type": "code",
   "execution_count": 2,
   "id": "1aab0fcb",
   "metadata": {},
   "outputs": [
    {
     "data": {
      "text/html": [
       "<div>\n",
       "<style scoped>\n",
       "    .dataframe tbody tr th:only-of-type {\n",
       "        vertical-align: middle;\n",
       "    }\n",
       "\n",
       "    .dataframe tbody tr th {\n",
       "        vertical-align: top;\n",
       "    }\n",
       "\n",
       "    .dataframe thead th {\n",
       "        text-align: right;\n",
       "    }\n",
       "</style>\n",
       "<table border=\"1\" class=\"dataframe\">\n",
       "  <thead>\n",
       "    <tr style=\"text-align: right;\">\n",
       "      <th></th>\n",
       "      <th>What is your gender</th>\n",
       "      <th>Year of graduation</th>\n",
       "      <th>Title of course studied</th>\n",
       "      <th>Polytechnic/University attended</th>\n",
       "      <th>What is your highest level of education?</th>\n",
       "      <th>What best describes your current status?</th>\n",
       "      <th>How many jobs have you had since graduation including your current one?</th>\n",
       "      <th>Have you completed your NYSC?</th>\n",
       "      <th>If you answered yes/ongoing to the previous question, what year did you (or will you) complete your NYSC?</th>\n",
       "      <th>Did you get your first full time job through your NYSC placement?</th>\n",
       "      <th>...</th>\n",
       "      <th>What currency are you currently paid in?</th>\n",
       "      <th>Approximately how many hours a day do you currently work?</th>\n",
       "      <th>As far as you are aware, what was most important to your current employer about your qualification?</th>\n",
       "      <th>How do you find out about your job(s)?</th>\n",
       "      <th>Thinking about your current employment, did you work for your employer before or during your  higher education study?</th>\n",
       "      <th>Which form of transport do you use the most?</th>\n",
       "      <th>Were you able to rent an apartment or buy a car from the salary you got from your first job?</th>\n",
       "      <th>My course of study prepared me well for employment</th>\n",
       "      <th>My course of study prepared me well for further studies</th>\n",
       "      <th>Which of these skills/knowledge did your higher education prepare you for?</th>\n",
       "    </tr>\n",
       "  </thead>\n",
       "  <tbody>\n",
       "    <tr>\n",
       "      <th>0</th>\n",
       "      <td>Female</td>\n",
       "      <td>2013</td>\n",
       "      <td>Economics</td>\n",
       "      <td>Bells University of Technology, Otta</td>\n",
       "      <td>Bachelor's degree</td>\n",
       "      <td>Working full time (paid employment)</td>\n",
       "      <td>2</td>\n",
       "      <td>Yes</td>\n",
       "      <td>NaN</td>\n",
       "      <td>No</td>\n",
       "      <td>...</td>\n",
       "      <td>Naira</td>\n",
       "      <td>14.0</td>\n",
       "      <td>The subject(s) I studied</td>\n",
       "      <td>Employer's website</td>\n",
       "      <td>No</td>\n",
       "      <td>Uber/Taxify/Taxi services</td>\n",
       "      <td>No: From my current job</td>\n",
       "      <td>Disagree</td>\n",
       "      <td>Agree</td>\n",
       "      <td>Ability to work with others, Written communica...</td>\n",
       "    </tr>\n",
       "    <tr>\n",
       "      <th>1</th>\n",
       "      <td>Female</td>\n",
       "      <td>2013</td>\n",
       "      <td>Statistics</td>\n",
       "      <td>Ekiti State University</td>\n",
       "      <td>Bachelor's degree</td>\n",
       "      <td>Working full time (paid employment)</td>\n",
       "      <td>3</td>\n",
       "      <td>Yes</td>\n",
       "      <td>2016.0</td>\n",
       "      <td>No</td>\n",
       "      <td>...</td>\n",
       "      <td>Naira</td>\n",
       "      <td>8.0</td>\n",
       "      <td>IT/SIWES/Internship experience (gained as part...</td>\n",
       "      <td>Personal contacts, including family and friends</td>\n",
       "      <td>No</td>\n",
       "      <td>Commercial Vehicles</td>\n",
       "      <td>No</td>\n",
       "      <td>Agree</td>\n",
       "      <td>Agree</td>\n",
       "      <td>Critical thinking skills</td>\n",
       "    </tr>\n",
       "    <tr>\n",
       "      <th>2</th>\n",
       "      <td>Male</td>\n",
       "      <td>2015</td>\n",
       "      <td>Electrical &amp; Electronic Engineering</td>\n",
       "      <td>University of Benin</td>\n",
       "      <td>Bachelor's degree</td>\n",
       "      <td>Working full time (paid employment)</td>\n",
       "      <td>2</td>\n",
       "      <td>No</td>\n",
       "      <td>2013.0</td>\n",
       "      <td>No</td>\n",
       "      <td>...</td>\n",
       "      <td>Naira</td>\n",
       "      <td>10.0</td>\n",
       "      <td>Capacity</td>\n",
       "      <td>Social media/professional networking sites</td>\n",
       "      <td>No</td>\n",
       "      <td>Car</td>\n",
       "      <td>No: From my current job</td>\n",
       "      <td>Agree</td>\n",
       "      <td>Agree</td>\n",
       "      <td>Ability to work with others, Knowledge of the ...</td>\n",
       "    </tr>\n",
       "    <tr>\n",
       "      <th>3</th>\n",
       "      <td>Male</td>\n",
       "      <td>2013</td>\n",
       "      <td>Economics</td>\n",
       "      <td>Bowen University, Iwo</td>\n",
       "      <td>Higher National Diploma (HND)</td>\n",
       "      <td>Working full time (paid employment)</td>\n",
       "      <td>4</td>\n",
       "      <td>Yes</td>\n",
       "      <td>2016.0</td>\n",
       "      <td>No</td>\n",
       "      <td>...</td>\n",
       "      <td>Naira</td>\n",
       "      <td>8.0</td>\n",
       "      <td>Don't know</td>\n",
       "      <td>University/polytechnic (e.g. Careers Service, ...</td>\n",
       "      <td>Yes: during my higher education study</td>\n",
       "      <td>Commercial Vehicles</td>\n",
       "      <td>No: From my current job</td>\n",
       "      <td>Strongly Disagree</td>\n",
       "      <td>Strongly Disagree</td>\n",
       "      <td>Critical thinking skills, Ability to work with...</td>\n",
       "    </tr>\n",
       "    <tr>\n",
       "      <th>4</th>\n",
       "      <td>Male</td>\n",
       "      <td>2015</td>\n",
       "      <td>Accountancy</td>\n",
       "      <td>Obafemi Awolowo University,Ile-Ife</td>\n",
       "      <td>Bachelor's degree</td>\n",
       "      <td>Working full time (paid employment)</td>\n",
       "      <td>1</td>\n",
       "      <td>Yes</td>\n",
       "      <td>2017.0</td>\n",
       "      <td>No</td>\n",
       "      <td>...</td>\n",
       "      <td>Naira</td>\n",
       "      <td>11.0</td>\n",
       "      <td>IT/SIWES/Internship experience (gained as part...</td>\n",
       "      <td>Internship</td>\n",
       "      <td>No</td>\n",
       "      <td>Commercial Vehicles</td>\n",
       "      <td>No</td>\n",
       "      <td>Agree</td>\n",
       "      <td>Agree</td>\n",
       "      <td>Ability to solve complex problems, Knowledge o...</td>\n",
       "    </tr>\n",
       "  </tbody>\n",
       "</table>\n",
       "<p>5 rows × 35 columns</p>\n",
       "</div>"
      ],
      "text/plain": [
       "  What is your gender  Year of graduation  \\\n",
       "0              Female                2013   \n",
       "1              Female                2013   \n",
       "2                Male                2015   \n",
       "3                Male                2013   \n",
       "4                Male                2015   \n",
       "\n",
       "               Title of course studied       Polytechnic/University attended  \\\n",
       "0                            Economics  Bells University of Technology, Otta   \n",
       "1                           Statistics                Ekiti State University   \n",
       "2  Electrical & Electronic Engineering                   University of Benin   \n",
       "3                            Economics                 Bowen University, Iwo   \n",
       "4                          Accountancy    Obafemi Awolowo University,Ile-Ife   \n",
       "\n",
       "  What is your highest level of education?  \\\n",
       "0                        Bachelor's degree   \n",
       "1                        Bachelor's degree   \n",
       "2                        Bachelor's degree   \n",
       "3            Higher National Diploma (HND)   \n",
       "4                        Bachelor's degree   \n",
       "\n",
       "  What best describes your current status?  \\\n",
       "0      Working full time (paid employment)   \n",
       "1      Working full time (paid employment)   \n",
       "2      Working full time (paid employment)   \n",
       "3      Working full time (paid employment)   \n",
       "4      Working full time (paid employment)   \n",
       "\n",
       "   How many jobs have you had since graduation including your current one?  \\\n",
       "0                                                  2                         \n",
       "1                                                  3                         \n",
       "2                                                  2                         \n",
       "3                                                  4                         \n",
       "4                                                  1                         \n",
       "\n",
       "  Have you completed your NYSC?  \\\n",
       "0                           Yes   \n",
       "1                           Yes   \n",
       "2                            No   \n",
       "3                           Yes   \n",
       "4                           Yes   \n",
       "\n",
       "   If you answered yes/ongoing to the previous question, what year did you (or will you) complete your NYSC?  \\\n",
       "0                                                NaN                                                           \n",
       "1                                             2016.0                                                           \n",
       "2                                             2013.0                                                           \n",
       "3                                             2016.0                                                           \n",
       "4                                             2017.0                                                           \n",
       "\n",
       "  Did you get your first full time job through your NYSC placement?  ...  \\\n",
       "0                                                 No                 ...   \n",
       "1                                                 No                 ...   \n",
       "2                                                 No                 ...   \n",
       "3                                                 No                 ...   \n",
       "4                                                 No                 ...   \n",
       "\n",
       "  What currency are you currently paid in?  \\\n",
       "0                                    Naira   \n",
       "1                                    Naira   \n",
       "2                                    Naira   \n",
       "3                                    Naira   \n",
       "4                                    Naira   \n",
       "\n",
       "  Approximately how many hours a day do you currently work?  \\\n",
       "0                                               14.0          \n",
       "1                                                8.0          \n",
       "2                                               10.0          \n",
       "3                                                8.0          \n",
       "4                                               11.0          \n",
       "\n",
       "  As far as you are aware, what was most important to your current employer about your qualification?  \\\n",
       "0                           The subject(s) I studied                                                    \n",
       "1  IT/SIWES/Internship experience (gained as part...                                                    \n",
       "2                                           Capacity                                                    \n",
       "3                                         Don't know                                                    \n",
       "4  IT/SIWES/Internship experience (gained as part...                                                    \n",
       "\n",
       "              How do you find out about your job(s)?  \\\n",
       "0                                 Employer's website   \n",
       "1    Personal contacts, including family and friends   \n",
       "2         Social media/professional networking sites   \n",
       "3  University/polytechnic (e.g. Careers Service, ...   \n",
       "4                                         Internship   \n",
       "\n",
       "  Thinking about your current employment, did you work for your employer before or during your  higher education study?  \\\n",
       "0                                                 No                                                                      \n",
       "1                                                 No                                                                      \n",
       "2                                                 No                                                                      \n",
       "3              Yes: during my higher education study                                                                      \n",
       "4                                                 No                                                                      \n",
       "\n",
       "  Which form of transport do you use the most?  \\\n",
       "0                    Uber/Taxify/Taxi services   \n",
       "1                          Commercial Vehicles   \n",
       "2                                          Car   \n",
       "3                          Commercial Vehicles   \n",
       "4                          Commercial Vehicles   \n",
       "\n",
       "  Were you able to rent an apartment or buy a car from the salary you got from your first job?  \\\n",
       "0                            No: From my current job                                             \n",
       "1                                                 No                                             \n",
       "2                            No: From my current job                                             \n",
       "3                            No: From my current job                                             \n",
       "4                                                 No                                             \n",
       "\n",
       "  My course of study prepared me well for employment  \\\n",
       "0                                           Disagree   \n",
       "1                                              Agree   \n",
       "2                                              Agree   \n",
       "3                                  Strongly Disagree   \n",
       "4                                              Agree   \n",
       "\n",
       "  My course of study prepared me well for further studies  \\\n",
       "0                                              Agree        \n",
       "1                                              Agree        \n",
       "2                                              Agree        \n",
       "3                                  Strongly Disagree        \n",
       "4                                              Agree        \n",
       "\n",
       "  Which of these skills/knowledge did your higher education prepare you for?  \n",
       "0  Ability to work with others, Written communica...                          \n",
       "1                           Critical thinking skills                          \n",
       "2  Ability to work with others, Knowledge of the ...                          \n",
       "3  Critical thinking skills, Ability to work with...                          \n",
       "4  Ability to solve complex problems, Knowledge o...                          \n",
       "\n",
       "[5 rows x 35 columns]"
      ]
     },
     "execution_count": 2,
     "metadata": {},
     "output_type": "execute_result"
    }
   ],
   "source": [
    "# load the data\n",
    "df = pd.read_csv('group_data_cleaning.csv')\n",
    "df.head()"
   ]
  },
  {
   "cell_type": "code",
   "execution_count": 3,
   "id": "b0edf712",
   "metadata": {},
   "outputs": [
    {
     "name": "stdout",
     "output_type": "stream",
     "text": [
      "<class 'pandas.core.frame.DataFrame'>\n",
      "RangeIndex: 2961 entries, 0 to 2960\n",
      "Data columns (total 35 columns):\n",
      " #   Column                                                                                                                        Non-Null Count  Dtype  \n",
      "---  ------                                                                                                                        --------------  -----  \n",
      " 0   What is your gender                                                                                                           2961 non-null   object \n",
      " 1   Year of graduation                                                                                                            2961 non-null   int64  \n",
      " 2   Title of course studied                                                                                                       2961 non-null   object \n",
      " 3   Polytechnic/University attended                                                                                               2961 non-null   object \n",
      " 4   What is your highest level of education?                                                                                      2961 non-null   object \n",
      " 5   What best describes your current status?                                                                                      2961 non-null   object \n",
      " 6   How many jobs have you had since graduation including your current one?                                                       2961 non-null   int64  \n",
      " 7   Have you completed your NYSC?                                                                                                 2961 non-null   object \n",
      " 8   If you answered yes/ongoing to the previous question, what year did you (or will you) complete your NYSC?                     2500 non-null   float64\n",
      " 9   Did you get your first full time job through your NYSC placement?                                                             2961 non-null   object \n",
      " 10  Thinking about your first employment after graduation, what was your job level?                                               1592 non-null   object \n",
      " 11  What is/was your job role?                                                                                                    1592 non-null   object \n",
      " 12  What sector/industry is your company in? (E.g. Banking, Agriculture, Telecommunication)                                       1592 non-null   object \n",
      " 13  Still thinking about your first employment, what is/was your monthly income level?                                            1592 non-null   object \n",
      " 14  Did you need your higher education qualification to get your first job (the actual qualification, not the subject of study)?  1592 non-null   object \n",
      " 15  What was the most significant reason for deciding to take your first job?                                                     1592 non-null   object \n",
      " 16  Thinking about your current employment, what is your job level?                                                               2961 non-null   object \n",
      " 17  What is your job role?                                                                                                        2961 non-null   object \n",
      " 18  What sector/industry is your company in? (E.g. Banking, Agriculture, Telecommunication).1                                     2961 non-null   object \n",
      " 19  What is your current monthly income level?                                                                                    2961 non-null   object \n",
      " 20  Did you need your higher education qualification to get this job (the actual qualification, not the subject of study)?        2961 non-null   object \n",
      " 21  What was the most significant reason for deciding to take this job?                                                           2961 non-null   object \n",
      " 22  Which employer in the country do you think offers the best opportunities for graduates?                                       2607 non-null   object \n",
      " 23  Reason why?                                                                                                                   2717 non-null   object \n",
      " 24  Which sector is your most preferred sector to work in?                                                                        2961 non-null   object \n",
      " 25  What currency are you currently paid in?                                                                                      2961 non-null   object \n",
      " 26  Approximately how many hours a day do you currently work?                                                                     2961 non-null   float64\n",
      " 27  As far as you are aware, what was most important to your current employer about your qualification?                           2961 non-null   object \n",
      " 28  How do you find out about your job(s)?                                                                                        2961 non-null   object \n",
      " 29  Thinking about your current employment, did you work for your employer before or during your  higher education study?         2961 non-null   object \n",
      " 30  Which form of transport do you use the most?                                                                                  2961 non-null   object \n",
      " 31  Were you able to rent an apartment or buy a car from the salary you got from your first job?                                  2961 non-null   object \n",
      " 32  My course of study prepared me well for employment                                                                            2961 non-null   object \n",
      " 33  My course of study prepared me well for further studies                                                                       2961 non-null   object \n",
      " 34  Which of these skills/knowledge did your higher education prepare you for?                                                    2961 non-null   object \n",
      "dtypes: float64(2), int64(2), object(31)\n",
      "memory usage: 809.8+ KB\n"
     ]
    }
   ],
   "source": [
    "df.info()"
   ]
  },
  {
   "cell_type": "markdown",
   "id": "67dd6b03",
   "metadata": {},
   "source": [
    "####  Feature Engineering"
   ]
  },
  {
   "cell_type": "code",
   "execution_count": 4,
   "id": "cb05def5",
   "metadata": {},
   "outputs": [
    {
     "data": {
      "text/plain": [
       "array(['200,000 - 249,999', '100,000 - 149,999', '250,000 and more',\n",
       "       '50,000 - 99,999', 'Under 20000', '20,000 - 49,999',\n",
       "       '150,000 - 199,999'], dtype=object)"
      ]
     },
     "execution_count": 4,
     "metadata": {},
     "output_type": "execute_result"
    }
   ],
   "source": [
    "df['What is your current monthly income level?'].unique()"
   ]
  },
  {
   "cell_type": "code",
   "execution_count": 5,
   "id": "2a2ccd7a",
   "metadata": {},
   "outputs": [],
   "source": [
    "# Create the binary variable 'Income_Above_200K' using a conditional mapping\n",
    "df['Income_Above_200K'] = df['What is your current monthly income level?'].apply(lambda x: 1 if 'and more' in x or '200,000' in x else 0)\n"
   ]
  },
  {
   "cell_type": "code",
   "execution_count": 6,
   "id": "aac68ced",
   "metadata": {},
   "outputs": [
    {
     "data": {
      "text/plain": [
       "array([1, 0], dtype=int64)"
      ]
     },
     "execution_count": 6,
     "metadata": {},
     "output_type": "execute_result"
    }
   ],
   "source": [
    "df['Income_Above_200K'].unique()"
   ]
  },
  {
   "cell_type": "code",
   "execution_count": 7,
   "id": "43be1b36",
   "metadata": {},
   "outputs": [],
   "source": [
    "df['Career Success'] = df['Income_Above_200K']"
   ]
  },
  {
   "cell_type": "code",
   "execution_count": 8,
   "id": "369eb5c8",
   "metadata": {},
   "outputs": [
    {
     "data": {
      "text/plain": [
       "array([\"Bachelor's degree\", 'Higher National Diploma (HND)',\n",
       "       'Ordinary National Diploma (OND)', \"Master's degree\", 'MBA degree',\n",
       "       'PhDs/Doctorate Degree'], dtype=object)"
      ]
     },
     "execution_count": 8,
     "metadata": {},
     "output_type": "execute_result"
    }
   ],
   "source": [
    "# check for the unique levels of education\n",
    "df['What is your highest level of education?'].unique()"
   ]
  },
  {
   "cell_type": "code",
   "execution_count": 9,
   "id": "99dc30a9",
   "metadata": {},
   "outputs": [
    {
     "data": {
      "text/plain": [
       "0       3.0\n",
       "1       3.0\n",
       "2       3.0\n",
       "3       NaN\n",
       "4       3.0\n",
       "       ... \n",
       "2956    3.0\n",
       "2957    3.0\n",
       "2958    3.0\n",
       "2959    3.0\n",
       "2960    NaN\n",
       "Name: Educational Achievement Level, Length: 2961, dtype: float64"
      ]
     },
     "execution_count": 9,
     "metadata": {},
     "output_type": "execute_result"
    }
   ],
   "source": [
    "# Create a dictionary to map educational levels\n",
    "education_levels = {\n",
    "    'PhDs/Doctorate Degree': 6,\n",
    "    'MBA degree': 5,\n",
    "    \"Master's degree\": 4,\n",
    "    \"Bachelor's degree\": 3,\n",
    "    'Higher National Diploma': 2,\n",
    "    'Ordinary National Diploma': 1\n",
    "}\n",
    "\n",
    "# Map the educational levels to a new feature\n",
    "df['Educational Achievement Level'] = df['What is your highest level of education?'].map(education_levels)\n",
    "df['Educational Achievement Level']"
   ]
  },
  {
   "cell_type": "code",
   "execution_count": 10,
   "id": "0aafacc4",
   "metadata": {},
   "outputs": [
    {
     "data": {
      "text/plain": [
       "array([ 3., nan,  4.,  5.,  6.])"
      ]
     },
     "execution_count": 10,
     "metadata": {},
     "output_type": "execute_result"
    }
   ],
   "source": [
    "df['Educational Achievement Level'].unique()"
   ]
  },
  {
   "cell_type": "code",
   "execution_count": 11,
   "id": "1c4fad2f",
   "metadata": {},
   "outputs": [
    {
     "data": {
      "text/plain": [
       "array([3., 4., 5., 6.])"
      ]
     },
     "execution_count": 11,
     "metadata": {},
     "output_type": "execute_result"
    }
   ],
   "source": [
    "df = df.dropna(subset=['Educational Achievement Level'])\n",
    "df['Educational Achievement Level'].unique()"
   ]
  },
  {
   "cell_type": "code",
   "execution_count": 12,
   "id": "aa98d5a5",
   "metadata": {},
   "outputs": [
    {
     "data": {
      "text/plain": [
       "0       10\n",
       "1       10\n",
       "2        8\n",
       "4        8\n",
       "5        6\n",
       "        ..\n",
       "2955     8\n",
       "2956     6\n",
       "2957     7\n",
       "2958     8\n",
       "2959     9\n",
       "Name: Experience Level, Length: 2720, dtype: int64"
      ]
     },
     "execution_count": 12,
     "metadata": {},
     "output_type": "execute_result"
    }
   ],
   "source": [
    "#create an experience level\n",
    "df['Graduation Year'] = pd.to_datetime(df['Year of graduation'], format='%Y')\n",
    "\n",
    "# Calculate experience level by subtracting graduation year from the current year\n",
    "current_year = pd.Timestamp('now')\n",
    "df['Experience Level'] = current_year.year - df['Graduation Year'].dt.year\n",
    "df['Experience Level']"
   ]
  },
  {
   "cell_type": "markdown",
   "id": "799548dd",
   "metadata": {},
   "source": [
    "##### Data Splitting"
   ]
  },
  {
   "cell_type": "code",
   "execution_count": 13,
   "id": "9aa527ce",
   "metadata": {},
   "outputs": [
    {
     "name": "stderr",
     "output_type": "stream",
     "text": [
      "C:\\Users\\balo_\\AppData\\Local\\Temp\\ipykernel_6488\\2423550814.py:18: SettingWithCopyWarning: \n",
      "A value is trying to be set on a copy of a slice from a DataFrame.\n",
      "Try using .loc[row_indexer,col_indexer] = value instead\n",
      "\n",
      "See the caveats in the documentation: https://pandas.pydata.org/pandas-docs/stable/user_guide/indexing.html#returning-a-view-versus-a-copy\n",
      "  X[column] = le.fit_transform(X[column])\n"
     ]
    },
    {
     "name": "stdout",
     "output_type": "stream",
     "text": [
      "Accuracy: 1.0\n",
      "Classification Report:\n",
      "              precision    recall  f1-score   support\n",
      "\n",
      "           0       1.00      1.00      1.00       517\n",
      "           1       1.00      1.00      1.00        27\n",
      "\n",
      "    accuracy                           1.00       544\n",
      "   macro avg       1.00      1.00      1.00       544\n",
      "weighted avg       1.00      1.00      1.00       544\n",
      "\n"
     ]
    }
   ],
   "source": [
    "# Define the target variable\n",
    "target_column = 'Career Success'\n",
    "y = df[target_column]\n",
    "\n",
    "# Define the features or predictors\n",
    "feature_columns = [\n",
    "    'Year of graduation',\n",
    "    'Educational Achievement Level',\n",
    "    'Experience Level',\n",
    "    'What sector/industry is your company in? (E.g. Banking, Agriculture, Telecommunication)',\n",
    "    'What is your current monthly income level?',\n",
    "]\n",
    "X = df[feature_columns]\n",
    "\n",
    "# Preprocess categorical features using label encoding\n",
    "le = LabelEncoder()\n",
    "for column in X.select_dtypes(include=['object']).columns:\n",
    "    X[column] = le.fit_transform(X[column])\n",
    "\n",
    "# Split the data into training and testing sets\n",
    "X_train, X_test, y_train, y_test = train_test_split(X, y, test_size=0.2, random_state=42)\n",
    "\n",
    "# Initialize and train a classification model (Random Forest in this example)\n",
    "model = RandomForestClassifier(random_state=42)\n",
    "model.fit(X_train, y_train)\n",
    "\n",
    "# Make predictions\n",
    "y_pred = model.predict(X_test)\n",
    "\n",
    "# Evaluate the model\n",
    "accuracy = accuracy_score(y_test, y_pred)\n",
    "classification_rep = classification_report(y_test, y_pred)\n",
    "\n",
    "# Print the results\n",
    "print(f\"Accuracy: {accuracy}\")\n",
    "print(\"Classification Report:\")\n",
    "print(classification_rep)"
   ]
  },
  {
   "cell_type": "code",
   "execution_count": 14,
   "id": "c3b02eea",
   "metadata": {},
   "outputs": [
    {
     "data": {
      "text/plain": [
       "array([1, 0], dtype=int64)"
      ]
     },
     "execution_count": 14,
     "metadata": {},
     "output_type": "execute_result"
    }
   ],
   "source": [
    "df['Career Success'].unique()"
   ]
  },
  {
   "cell_type": "code",
   "execution_count": 15,
   "id": "d02d206b",
   "metadata": {},
   "outputs": [
    {
     "name": "stdout",
     "output_type": "stream",
     "text": [
      "Accuracy: 1.00\n",
      "Precision: 1.00\n",
      "Recall: 1.00\n",
      "F1 Score: 1.00\n",
      "Confusion Matrix:\n",
      "[[517   0]\n",
      " [  0  27]]\n"
     ]
    }
   ],
   "source": [
    "#split the dataset\n",
    "X_train, X_val, y_train, y_val = train_test_split(X, y, test_size=0.2, random_state=42)\n",
    "\n",
    "# Make predictions on the validation dataset\n",
    "y_val_pred = model.predict(X_val)\n",
    "\n",
    "# Calculate and print the evaluation metrics\n",
    "accuracy = accuracy_score(y_val, y_val_pred)\n",
    "precision = precision_score(y_val, y_val_pred)\n",
    "recall = recall_score(y_val, y_val_pred)\n",
    "f1 = f1_score(y_val, y_val_pred)\n",
    "confusion = confusion_matrix(y_val, y_val_pred)\n",
    "\n",
    "print(f\"Accuracy: {accuracy:.2f}\")\n",
    "print(f\"Precision: {precision:.2f}\")\n",
    "print(f\"Recall: {recall:.2f}\")\n",
    "print(f\"F1 Score: {f1:.2f}\")\n",
    "print(\"Confusion Matrix:\")\n",
    "print(confusion)\n"
   ]
  },
  {
   "cell_type": "code",
   "execution_count": 16,
   "id": "de64b59e",
   "metadata": {},
   "outputs": [
    {
     "name": "stdout",
     "output_type": "stream",
     "text": [
      "Linear Regression MSE: 0.047088619540719426\n",
      "Lasso Regression MSE: 0.04759665096507353\n",
      "Ridge Regression MSE: 0.04717483706282427\n"
     ]
    }
   ],
   "source": [
    "#split the dataset\n",
    "X_train, X_test, y_train, y_test = train_test_split(X, y, test_size=0.2, random_state=42)\n",
    "# Standardize features\n",
    "scaler = StandardScaler()\n",
    "X_train_scaled = scaler.fit_transform(X_train)\n",
    "X_test_scaled = scaler.transform(X_test)\n",
    "# Linear Regression\n",
    "lr = LinearRegression()\n",
    "lr.fit(X_train, y_train)\n",
    "y_pred_lr = lr.predict(X_test)\n",
    "mse_lr = mean_squared_error(y_test, y_pred_lr)\n",
    "\n",
    "# Lasso Regression with increased max_iter\n",
    "lasso = Lasso(alpha=1.0, max_iter=10000)  # Increase max_iter\n",
    "lasso.fit(X_train_scaled, y_train)\n",
    "y_pred_lasso = lasso.predict(X_test_scaled)\n",
    "mse_lasso = mean_squared_error(y_test, y_pred_lasso)\n",
    "\n",
    "# Ridge Regression\n",
    "ridge = Ridge(alpha=1.0)  # You can adjust the regularization strength (alpha)\n",
    "ridge.fit(X_train, y_train)\n",
    "y_pred_ridge = ridge.predict(X_test)\n",
    "mse_ridge = mean_squared_error(y_test, y_pred_ridge)\n",
    "print(\"Linear Regression MSE:\", mse_lr)\n",
    "print(\"Lasso Regression MSE:\", mse_lasso)\n",
    "print(\"Ridge Regression MSE:\", mse_ridge)\n"
   ]
  },
  {
   "cell_type": "code",
   "execution_count": 17,
   "id": "dca8ea04",
   "metadata": {},
   "outputs": [
    {
     "name": "stdout",
     "output_type": "stream",
     "text": [
      "Mean Squared Error: 0.047088619540719426\n",
      "R-squared (R2): 0.001703724306731047\n"
     ]
    }
   ],
   "source": [
    "# Split your dataset into training and testing sets\n",
    "X_train, X_test, y_train, y_test = train_test_split(X, y, test_size=0.2, random_state=42)\n",
    "\n",
    "# Initialize and train the Linear Regression model\n",
    "linear_reg = LinearRegression()\n",
    "linear_reg.fit(X_train, y_train)\n",
    "\n",
    "# Make predictions on the test set\n",
    "y_pred = linear_reg.predict(X_test)\n",
    "\n",
    "# Evaluate the model\n",
    "mse = mean_squared_error(y_test, y_pred)\n",
    "r2 = r2_score(y_test, y_pred)\n",
    "\n",
    "# Print the evaluation metrics\n",
    "print(\"Mean Squared Error:\", mse)\n",
    "print(\"R-squared (R2):\", r2)\n"
   ]
  },
  {
   "cell_type": "code",
   "execution_count": 18,
   "id": "7cfba12f",
   "metadata": {},
   "outputs": [
    {
     "name": "stdout",
     "output_type": "stream",
     "text": [
      "Random Forest Mean Squared Error: 0.0\n",
      "Random Forest R-squared (R2): 1.0\n"
     ]
    }
   ],
   "source": [
    "# Initialize and train the Random Forest Regressor model\n",
    "random_forest_reg = RandomForestRegressor(n_estimators=100, random_state=42)  # Adjust hyperparameters as needed\n",
    "random_forest_reg.fit(X_train, y_train)\n",
    "\n",
    "# Make predictions on the test set\n",
    "y_pred_rf = random_forest_reg.predict(X_test)\n",
    "\n",
    "# Evaluate the Random Forest Regressor model\n",
    "mse_rf = mean_squared_error(y_test, y_pred_rf)\n",
    "r2_rf = r2_score(y_test, y_pred_rf)\n",
    "\n",
    "# Print the evaluation metrics\n",
    "print(\"Random Forest Mean Squared Error:\", mse_rf)\n",
    "print(\"Random Forest R-squared (R2):\", r2_rf)\n"
   ]
  },
  {
   "cell_type": "markdown",
   "id": "7bea0d1f",
   "metadata": {},
   "source": [
    "#### Evaluation Metrics"
   ]
  },
  {
   "cell_type": "code",
   "execution_count": 19,
   "id": "79057da2",
   "metadata": {},
   "outputs": [
    {
     "data": {
      "image/png": "[encoded data removed]",
      "text/plain": [
       "<Figure size 432x288 with 1 Axes>"
      ]
     },
     "metadata": {
      "needs_background": "light"
     },
     "output_type": "display_data"
    },
    {
     "data": {
      "image/png": "[encoded data removed]",
      "text/plain": [
       "<Figure size 432x288 with 1 Axes>"
      ]
     },
     "metadata": {
      "needs_background": "light"
     },
     "output_type": "display_data"
    }
   ],
   "source": [
    "y_true = y_test\n",
    "# Mean Absolute Error (MAE)\n",
    "mae = mean_absolute_error(y_true, y_pred)\n",
    "\n",
    "# Mean Squared Error (MSE)\n",
    "mse = mean_squared_error(y_true, y_pred)\n",
    "\n",
    "# Root Mean Squared Error (RMSE)\n",
    "rmse = np.sqrt(mse)\n",
    "\n",
    "# R-squared (R2)\n",
    "r2 = r2_score(y_true, y_pred)\n",
    "\n",
    "# Mean Absolute Percentage Error (MAPE)\n",
    "mape = mean_absolute_percentage_error(y_true, y_pred)\n",
    "\n",
    "# Residual Plot\n",
    "residuals = y_true - y_pred\n",
    "plt.scatter(y_pred, residuals)\n",
    "plt.xlabel(\"Predicted Values\")\n",
    "plt.ylabel(\"Residuals\")\n",
    "plt.title(\"Residual Plot\")\n",
    "plt.show()\n",
    "\n",
    "# Q-Q Plot\n",
    "import statsmodels.api as sm\n",
    "sm.qqplot(residuals, line=\"s\")\n",
    "plt.title(\"Q-Q Plot\")\n",
    "plt.show()\n"
   ]
  },
  {
   "cell_type": "markdown",
   "id": "50b08428",
   "metadata": {},
   "source": [
    "#### Interpretations\n"
   ]
  },
  {
   "cell_type": "markdown",
   "id": "b3eb18c4",
   "metadata": {},
   "source": [
    "Accuracy: The model correctly predicted all instances in the dataset.\n",
    "Precision:For class 0, the precision is 1.00, which means that all instances predicted as class 0 were correct.\n",
    "For class 1, the precision is also 1.00, indicating that all instances predicted as class 1 were correct.\n",
    "Recall:A recall of 1.00 for both classes indicates that the model correctly identified all instances of both classes.\n",
    "F1-Score:F1-score of 1.00 for both classes suggests a perfect balance between precision and recall for both classes\n",
    "Support:For class 0, there are 517 instances, and for class 1, there are 27 instances.\n"
   ]
  },
  {
   "cell_type": "markdown",
   "id": "fcc7249d",
   "metadata": {},
   "source": [
    "Linear Regression MSE: 0.047088619540719426\n",
    "For the Linear Regression model, the MSE is approximately 0.0471.\n",
    "This value indicates that, on average, the squared difference between the actual and predicted values is 0.0471.\n",
    "A lower MSE suggests that the model's predictions are closer to the actual values, which is a good sign of model performance.\n",
    "Lasso Regression MSE: 0.04759665096507353\n",
    "For the Lasso Regression model, the MSE is slightly higher, approximately 0.0476.\n",
    "This means that the Lasso model's predictions have a slightly higher average squared difference from the actual values compared to the Linear Regression model.\n",
    "The Lasso Regression model introduces L1 regularization, which can lead to feature selection and result in slightly different predictive performance compared to linear regression.\n",
    "Ridge Regression MSE: 0.04717483706282427\n",
    "For the Ridge Regression model, the MSE is approximately 0.0472.\n",
    "The Ridge model's performance falls between that of Linear Regression and Lasso Regression."
   ]
  },
  {
   "cell_type": "markdown",
   "id": "179c1e89",
   "metadata": {},
   "source": [
    "Mean Squared Error (MSE):the MSE is approximately 0.0471. This means that, on average, the squared difference between the actual and predicted values is 0.0471.\n",
    "A lower MSE indicates that the model's predictions are closer to the actual values.\n"
   ]
  }
 ],
 "metadata": {
  "kernelspec": {
   "display_name": "Python 3 (ipykernel)",
   "language": "python",
   "name": "python3"
  },
  "language_info": {
   "codemirror_mode": {
    "name": "ipython",
    "version": 3
   },
   "file_extension": ".py",
   "mimetype": "text/x-python",
   "name": "python",
   "nbconvert_exporter": "python",
   "pygments_lexer": "ipython3",
   "version": "3.9.12"
  }
 },
 "nbformat": 4,
 "nbformat_minor": 5
}
